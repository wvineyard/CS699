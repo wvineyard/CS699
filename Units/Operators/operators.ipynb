{
 "cells": [
  {
   "cell_type": "markdown",
   "metadata": {},
   "source": [
    "# Operators\n",
    "1. Syntax, Parsing, and printing variables\n",
    "1. ***Values and types (ITS)***\n",
    "1. Operator Precedence\n",
    "1. ***Boolean Logic (ITS)***\n",
    "1. ***Strings, escape characters (ITS)***\n",
    "1. Comments"
   ]
  },
  {
   "cell_type": "markdown",
   "metadata": {},
   "source": [
    "## Welcome to my Python ITS Demo!\n",
    "In this demo, we will have assistance for Values and Types, Boolean Logic, and Strings. A code block is being run by the ITS system if there is a \"%%ITS\" at the top of the cell. In order to load the plugin, make sure the below cell \"%reload_ext ITS_Operators_Magic\" is run.\n",
    "\n",
    "***MAKE SURE TO NOT CHANGE THE ID AFTER \"%%ITS\"!***"
   ]
  },
  {
   "cell_type": "code",
   "execution_count": 1,
   "metadata": {},
   "outputs": [],
   "source": [
    "%reload_ext ITS_Operators_Magic"
   ]
  },
  {
   "cell_type": "markdown",
   "metadata": {},
   "source": [
    "For this first problem, make three variables, and give them the type of Int, Float, and String. There should only be one type of each!"
   ]
  },
  {
   "cell_type": "code",
   "execution_count": 2,
   "metadata": {},
   "outputs": [
    {
     "name": "stdout",
     "output_type": "stream",
     "text": [
      "You seem to have a variable type that isn't a float, int, or string.\n",
      "Did you make sure to add a variable of type <class 'str'>?\n",
      "\n"
     ]
    }
   ],
   "source": [
    "%%ITS 1a\n",
    "a = 1\n",
    "b = 2.0\n",
    "c = [1, 2, 3]"
   ]
  },
  {
   "cell_type": "markdown",
   "metadata": {},
   "source": [
    "We can always check the type of a variable using the method 'type()' like this: \n",
    "``` python\n",
    "type(a)\n",
    "```"
   ]
  },
  {
   "cell_type": "code",
   "execution_count": 3,
   "metadata": {},
   "outputs": [
    {
     "data": {
      "text/plain": [
       "str"
      ]
     },
     "execution_count": 3,
     "metadata": {},
     "output_type": "execute_result"
    }
   ],
   "source": [
    "a = \"hello world\"\n",
    "type(a)"
   ]
  }
 ],
 "metadata": {
  "kernelspec": {
   "display_name": "Python 3.10.7 ('cs699_venv': venv)",
   "language": "python",
   "name": "python3"
  },
  "language_info": {
   "codemirror_mode": {
    "name": "ipython",
    "version": 3
   },
   "file_extension": ".py",
   "mimetype": "text/x-python",
   "name": "python",
   "nbconvert_exporter": "python",
   "pygments_lexer": "ipython3",
   "version": "3.10.7"
  },
  "orig_nbformat": 4,
  "vscode": {
   "interpreter": {
    "hash": "add60f513203f9fde0929bd5779f0c3ff60be28244bf068604f76f92e9dd0df4"
   }
  }
 },
 "nbformat": 4,
 "nbformat_minor": 2
}
