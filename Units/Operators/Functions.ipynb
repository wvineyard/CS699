{
 "cells": [
  {
   "cell_type": "markdown",
   "metadata": {},
   "source": [
    "# Functions\n",
    "Next thing to learn is what a function is. Functions are reusable pieces of code that may have inputs and outputs. For example, lets have a function that squares a number. \n",
    "``` python\n",
    "def squared(x): \n",
    "    return x**2\n",
    "```\n",
    "You declare a function by writing 'def' then the function name. Immediately after the function name, you put in variables for an input, in this case 'x'. Then, you can write code as you usually do, and have 'return' at the end. In Jupyter Notebooks, functions need to be run in the cell before they can be called on in other cells. "
   ]
  },
  {
   "cell_type": "code",
   "execution_count": 3,
   "metadata": {},
   "outputs": [],
   "source": [
    "%reload_ext ITS_Operators_Magic"
   ]
  },
  {
   "cell_type": "code",
   "execution_count": 1,
   "metadata": {},
   "outputs": [],
   "source": [
    "def squared(x): \n",
    "    return x**2"
   ]
  },
  {
   "cell_type": "code",
   "execution_count": 2,
   "metadata": {},
   "outputs": [
    {
     "data": {
      "text/plain": [
       "9"
      ]
     },
     "execution_count": 2,
     "metadata": {},
     "output_type": "execute_result"
    }
   ],
   "source": [
    "squared(3) # 3 ^ 2 = 9"
   ]
  },
  {
   "cell_type": "markdown",
   "metadata": {},
   "source": [
    "A function can have multiple parameters, like this example function: \n",
    "``` python\n",
    "def multiply(x, y): \n",
    "    return x * y\n",
    "```\n",
    "You can also return multiple values in a **tuple**, which is a collection of variables that cannot be changed. An example of a tuple is \n",
    "``` python\n",
    "a = (1, 2.0, 'three')\n",
    "```\n",
    "You can access values in the tuple using square brackets. In python, we have zero based indexing, so the first element will be at index zero. \n",
    "``` python\n",
    "a[0] # 1\n",
    "a[1] # 2.0\n",
    "a[2] # 'three'\n",
    "```\n",
    "When you return multiple values, they automatically return as a tuple, as such: \n",
    "``` python\n",
    "def return_max_min(a, b, c):\n",
    "    max_value = max(a,b,c)\n",
    "    min_value = min(a,b,c)\n",
    "    return max_value, min_value\n",
    "```\n",
    "The max and min are also function!\n"
   ]
  },
  {
   "cell_type": "markdown",
   "metadata": {},
   "source": [
    "For the first activity, create a function that returns the quadratic equation in a tuple. A template is provided for you. You can use the sqrt function from math. \n",
    "\n",
    "$x = -b \\pm \\frac{\\sqrt{b^2 - 4 a c}}{2a}$"
   ]
  },
  {
   "cell_type": "code",
   "execution_count": 4,
   "metadata": {},
   "outputs": [
    {
     "ename": "SystemError",
     "evalue": "D:\\_w\\1\\s\\Objects\\dictobject.c:1490: bad argument to internal function",
     "output_type": "error",
     "traceback": [
      "\u001b[1;31m---------------------------------------------------------------------------\u001b[0m",
      "\u001b[1;31mSystemError\u001b[0m                               Traceback (most recent call last)",
      "Cell \u001b[1;32mIn [4], line 1\u001b[0m\n\u001b[1;32m----> 1\u001b[0m get_ipython()\u001b[39m.\u001b[39mrun_cell_magic(\u001b[39m'\u001b[39m\u001b[39mITS\u001b[39m\u001b[39m'\u001b[39m, \u001b[39m'\u001b[39m\u001b[39m2a\u001b[39m\u001b[39m'\u001b[39m, \u001b[39m'\u001b[39m\u001b[39mfrom math import sqrt\u001b[39m\u001b[39m\\n\u001b[39;00m\u001b[39m\\n\u001b[39;00m\u001b[39mdef quadratic_formula(a, b, c): \u001b[39m\u001b[39m\\n\u001b[39;00m\u001b[39m    x1 = -b + (sqrt(b^2 - 4 * a * c) / (2*a))#insert code here\u001b[39m\u001b[39m\\n\u001b[39;00m\u001b[39m    x2 = -b - (sqrt(b^2 - 4 * a * c) / (2*a))\u001b[39m\u001b[39m\\n\u001b[39;00m\u001b[39m    return x1, x2\u001b[39m\u001b[39m\\n\u001b[39;00m\u001b[39m'\u001b[39m)\n",
      "File \u001b[1;32mc:\\Users\\bluev\\Documents\\CS699\\CS699\\cs699_venv\\lib\\site-packages\\IPython\\core\\interactiveshell.py:2362\u001b[0m, in \u001b[0;36mInteractiveShell.run_cell_magic\u001b[1;34m(self, magic_name, line, cell)\u001b[0m\n\u001b[0;32m   2360\u001b[0m \u001b[39mwith\u001b[39;00m \u001b[39mself\u001b[39m\u001b[39m.\u001b[39mbuiltin_trap:\n\u001b[0;32m   2361\u001b[0m     args \u001b[39m=\u001b[39m (magic_arg_s, cell)\n\u001b[1;32m-> 2362\u001b[0m     result \u001b[39m=\u001b[39m fn(\u001b[39m*\u001b[39margs, \u001b[39m*\u001b[39m\u001b[39m*\u001b[39mkwargs)\n\u001b[0;32m   2363\u001b[0m \u001b[39mreturn\u001b[39;00m result\n",
      "File \u001b[1;32mc:\\Users\\bluev\\Documents\\CS699\\CS699\\Units\\Operators\\ITS_Operators_Magic.py:13\u001b[0m, in \u001b[0;36mCSPMagic.ITS\u001b[1;34m(self, line, cell)\u001b[0m\n\u001b[0;32m     11\u001b[0m \u001b[39mid\u001b[39m \u001b[39m=\u001b[39m line\n\u001b[0;32m     12\u001b[0m add_to_json(\u001b[39mid\u001b[39m, cell)\n\u001b[1;32m---> 13\u001b[0m o \u001b[39m=\u001b[39m parse(\u001b[39mid\u001b[39;49m, cell, debug\u001b[39m=\u001b[39;49m\u001b[39mTrue\u001b[39;49;00m)\n\u001b[0;32m     14\u001b[0m \u001b[39mprint\u001b[39m(o)\n\u001b[0;32m     15\u001b[0m \u001b[39mtry\u001b[39;00m: \n",
      "File \u001b[1;32mc:\\Users\\bluev\\Documents\\CS699\\CS699\\Units\\Operators\\program_parser.py:80\u001b[0m, in \u001b[0;36mparse\u001b[1;34m(id, code, debug)\u001b[0m\n\u001b[0;32m     78\u001b[0m         \u001b[39mreturn\u001b[39;00m \u001b[39m\"\u001b[39m\u001b[39ma doesn\u001b[39m\u001b[39m'\u001b[39m\u001b[39mt seem to be greater than b, did you edit them correctly?\u001b[39m\u001b[39m\"\u001b[39m\n\u001b[0;32m     79\u001b[0m \u001b[39melif\u001b[39;00m \u001b[39mid\u001b[39m \u001b[39m==\u001b[39m \u001b[39m\"\u001b[39m\u001b[39m2a\u001b[39m\u001b[39m\"\u001b[39m: \n\u001b[1;32m---> 80\u001b[0m     exec(code, globals_param, locals_param)\n\u001b[0;32m     81\u001b[0m     \u001b[39mprint\u001b[39m(locals_param)\n",
      "File \u001b[1;32m<string>:1\u001b[0m\n",
      "\u001b[1;31mSystemError\u001b[0m: D:\\_w\\1\\s\\Objects\\dictobject.c:1490: bad argument to internal function"
     ]
    }
   ],
   "source": [
    "%%ITS 2a\n",
    "from math import sqrt\n",
    "\n",
    "def quadratic_formula(a, b, c): \n",
    "    x1 = -b + (sqrt(b^2 - 4 * a * c) / (2*a))#insert code here\n",
    "    x2 = -b - (sqrt(b^2 - 4 * a * c) / (2*a))\n",
    "    return x1, x2"
   ]
  }
 ],
 "metadata": {
  "kernelspec": {
   "display_name": "Python 3.10.8 ('cs699_venv': venv)",
   "language": "python",
   "name": "python3"
  },
  "language_info": {
   "codemirror_mode": {
    "name": "ipython",
    "version": 3
   },
   "file_extension": ".py",
   "mimetype": "text/x-python",
   "name": "python",
   "nbconvert_exporter": "python",
   "pygments_lexer": "ipython3",
   "version": "3.10.8"
  },
  "orig_nbformat": 4,
  "vscode": {
   "interpreter": {
    "hash": "683290fbbb806a3bbcbb863db7d7aab338b2f23083352e4317cc660c02dcac53"
   }
  }
 },
 "nbformat": 4,
 "nbformat_minor": 2
}
