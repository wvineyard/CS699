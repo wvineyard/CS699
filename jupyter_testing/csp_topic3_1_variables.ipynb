{
  "cells": [
    {
      "cell_type": "markdown",
      "metadata": {
        "id": "5MUSlRIzI8Vu"
      },
      "source": [
        "\n",
        "\n",
        "# 3.1 Variables and Assignment\n",
        "https://apcentral.collegeboard.org/media/pdf/ap-computer-science-principles-course-and-exam-description.pdf#page=70"
      ]
    },
    {
      "cell_type": "code",
      "execution_count": 24,
      "metadata": {},
      "outputs": [],
      "source": [
        "%reload_ext csp_magic"
      ]
    },
    {
      "cell_type": "code",
      "execution_count": 26,
      "metadata": {
        "colab": {
          "base_uri": "https://localhost:8080/"
        },
        "id": "pPw3pVsMJTmO",
        "outputId": "3c92776a-3d24-48bd-dc83-fd59602939d8"
      },
      "outputs": [
        {
          "name": "stdout",
          "output_type": "stream",
          "text": [
            "7 3 10\n"
          ]
        }
      ],
      "source": [
        "%%cmagic\n",
        "# A variable is a name for a container that can hold a value\n",
        "# The `=` sign is used to assign a value to a variable\n",
        "\n",
        "a = 7\n",
        "b = 3\n",
        "c = a + b\n",
        "print(a, b, c)"
      ]
    },
    {
      "cell_type": "code",
      "execution_count": 2,
      "metadata": {
        "colab": {
          "base_uri": "https://localhost:8080/"
        },
        "id": "fclVc88hJdEu",
        "outputId": "a6efbce1-6cb4-42e9-b0fe-e8239cd05409"
      },
      "outputs": [
        {
          "name": "stdout",
          "output_type": "stream",
          "text": [
            "Chrissy\n"
          ]
        }
      ],
      "source": [
        "# A variable's value can be changed with another assignment statement\n",
        "name = \"Andy\"\n",
        "name = \"Chrissy\"\n",
        "print(name)"
      ]
    },
    {
      "cell_type": "code",
      "execution_count": 3,
      "metadata": {
        "id": "lY_vwqWzJx8Z"
      },
      "outputs": [],
      "source": [
        "# In Python, variable names must follow certain rules\n",
        "# these are some acceptable variable names\n",
        "\n",
        "city_name = \"Chicago\"\n",
        "velocity = -3.271\n",
        "\n"
      ]
    },
    {
      "cell_type": "markdown",
      "metadata": {
        "id": "LCyXH3yVKXIm"
      },
      "source": [
        "variable names cannot have spaces or special characters <br>\n",
        "they can only contain letters, digits, or the `_` character\n",
        "\n",
        "`my name = \"Therese\"      spaces not allowed `  <br>\n",
        "\n",
        "`cost#s = 4.92             #  not allowed`\n",
        "\n",
        "`2cute = 0             # cannot start with a digit`"
      ]
    },
    {
      "cell_type": "code",
      "execution_count": null,
      "metadata": {
        "colab": {
          "base_uri": "https://localhost:8080/"
        },
        "id": "9KURerlhKzp1",
        "outputId": "9428aa66-069b-4b3e-c322-243548fdcc96"
      },
      "outputs": [
        {
          "name": "stdout",
          "output_type": "stream",
          "text": [
            "<class 'int'> <class 'float'> <class 'str'> <class 'bool'>\n"
          ]
        }
      ],
      "source": [
        "# Python has 4 basic types of values\n",
        "\n",
        "age = 14            # int\n",
        "temperature = 99.6  # float\n",
        "word = \"bicycle\"    # string\n",
        "done = True         # Boolean\n",
        "\n",
        "print(type(age), type(temperature), type(word), type(done))"
      ]
    },
    {
      "cell_type": "code",
      "execution_count": null,
      "metadata": {
        "id": "iYM9BcuyK1Cw"
      },
      "outputs": [],
      "source": []
    },
    {
      "cell_type": "markdown",
      "metadata": {
        "id": "kwCrt9bTLzEp"
      },
      "source": [
        "# Common Errors"
      ]
    },
    {
      "cell_type": "code",
      "execution_count": null,
      "metadata": {
        "colab": {
          "base_uri": "https://localhost:8080/",
          "height": 133
        },
        "id": "qrl14ZvEL0v6",
        "outputId": "aeaec438-26df-474b-fb56-46c0de1f29a0"
      },
      "outputs": [
        {
          "ename": "SyntaxError",
          "evalue": "ignored",
          "output_type": "error",
          "traceback": [
            "\u001b[0;36m  File \u001b[0;32m\"<ipython-input-1-28ecb268ab56>\"\u001b[0;36m, line \u001b[0;32m3\u001b[0m\n\u001b[0;31m    first name = \"Andy\"\u001b[0m\n\u001b[0m             ^\u001b[0m\n\u001b[0;31mSyntaxError\u001b[0m\u001b[0;31m:\u001b[0m invalid syntax\n"
          ]
        }
      ],
      "source": [
        "# Error: including a space in a variable name\n",
        "\n",
        "first name = \"Andy\""
      ]
    },
    {
      "cell_type": "code",
      "execution_count": null,
      "metadata": {
        "colab": {
          "base_uri": "https://localhost:8080/",
          "height": 133
        },
        "id": "ZSd2s6clL1ZV",
        "outputId": "4e6310e2-b340-489c-f144-a35d11ada92b"
      },
      "outputs": [
        {
          "ename": "SyntaxError",
          "evalue": "ignored",
          "output_type": "error",
          "traceback": [
            "\u001b[0;36m  File \u001b[0;32m\"<ipython-input-2-043351a076f3>\"\u001b[0;36m, line \u001b[0;32m3\u001b[0m\n\u001b[0;31m    17 = x\u001b[0m\n\u001b[0m          ^\u001b[0m\n\u001b[0;31mSyntaxError\u001b[0m\u001b[0;31m:\u001b[0m can't assign to literal\n"
          ]
        }
      ],
      "source": [
        "# Error: reversing an assignment statement\n",
        "\n",
        "17 = x"
      ]
    },
    {
      "cell_type": "code",
      "execution_count": null,
      "metadata": {
        "colab": {
          "base_uri": "https://localhost:8080/",
          "height": 133
        },
        "id": "bZxMCjZ2cl2U",
        "outputId": "2ca882a9-cc91-43d9-90c1-0e74f328f122"
      },
      "outputs": [
        {
          "ename": "IndentationError",
          "evalue": "ignored",
          "output_type": "error",
          "traceback": [
            "\u001b[0;36m  File \u001b[0;32m\"<ipython-input-1-a80c9ffed29b>\"\u001b[0;36m, line \u001b[0;32m3\u001b[0m\n\u001b[0;31m    state = \"Wisconsin\"\u001b[0m\n\u001b[0m    ^\u001b[0m\n\u001b[0;31mIndentationError\u001b[0m\u001b[0;31m:\u001b[0m unexpected indent\n"
          ]
        }
      ],
      "source": [
        "# Error: not left-justifying all lines of code\n",
        "city = \"Madison\"\n",
        " state = \"Wisconsin\"\n",
        " print(city, state)"
      ]
    },
    {
      "cell_type": "markdown",
      "metadata": {
        "id": "fY8YChvxK014"
      },
      "source": [
        "# Practice"
      ]
    },
    {
      "cell_type": "code",
      "execution_count": 27,
      "metadata": {
        "id": "f5OP2YZGONHP"
      },
      "outputs": [
        {
          "name": "stdout",
          "output_type": "stream",
          "text": [
            "20\n"
          ]
        }
      ],
      "source": [
        "%%cmagic\n",
        "# create variables for length and width of a rectangle and store values in them\n",
        "# calculate the area of the rectangle \n",
        "# print out the area\n",
        "length = 4\n",
        "width = 5\n",
        "area = length * width\n",
        "print(area)"
      ]
    },
    {
      "cell_type": "code",
      "execution_count": null,
      "metadata": {},
      "outputs": [],
      "source": []
    }
  ],
  "metadata": {
    "colab": {
      "provenance": []
    },
    "kernelspec": {
      "display_name": "Python 3.10.7 ('cs699_venv': venv)",
      "language": "python",
      "name": "python3"
    },
    "language_info": {
      "codemirror_mode": {
        "name": "ipython",
        "version": 3
      },
      "file_extension": ".py",
      "mimetype": "text/x-python",
      "name": "python",
      "nbconvert_exporter": "python",
      "pygments_lexer": "ipython3",
      "version": "3.10.7 (tags/v3.10.7:6cc6b13, Sep  5 2022, 14:08:36) [MSC v.1933 64 bit (AMD64)]"
    },
    "vscode": {
      "interpreter": {
        "hash": "add60f513203f9fde0929bd5779f0c3ff60be28244bf068604f76f92e9dd0df4"
      }
    }
  },
  "nbformat": 4,
  "nbformat_minor": 0
}
