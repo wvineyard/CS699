{
 "cells": [
  {
   "attachments": {},
   "cell_type": "markdown",
   "metadata": {},
   "source": [
    "# Functions"
   ]
  },
  {
   "attachments": {},
   "cell_type": "markdown",
   "metadata": {},
   "source": [
    "If the feedback is not working, or you get an error, run the cell below to reload the extension. If that still doesn't work, restart the kernel and run the cell again. If you still get an error, please contact Bill Vineyard at wvineyard@wisc.edu"
   ]
  },
  {
   "cell_type": "code",
   "execution_count": 1,
   "metadata": {},
   "outputs": [],
   "source": [
    "%reload_ext its_magic"
   ]
  },
  {
   "attachments": {},
   "cell_type": "markdown",
   "metadata": {},
   "source": [
    "_edit the code below with your name and email within the quotes_"
   ]
  },
  {
   "cell_type": "code",
   "execution_count": 2,
   "metadata": {},
   "outputs": [],
   "source": [
    "name = \"Bill Vineyard\"\n",
    "email = \"abc@abc.com\""
   ]
  },
  {
   "attachments": {},
   "cell_type": "markdown",
   "metadata": {},
   "source": [
    "---\n",
    "Next thing to learn is what a function is. Functions are reusable pieces of code that may have inputs and outputs. For example, lets have a function that squares a number. \n",
    "``` python\n",
    "def squared(x): \n",
    "    return x**2\n",
    "```\n",
    "You declare a function by writing 'def' then the function name. Immediately after the function name, you put in variables for an input, in this case 'x'. Then, you can write code as you usually do, and have 'return' at the end. In Jupyter Notebooks, functions need to be run in the cell before they can be called on in other cells. "
   ]
  },
  {
   "cell_type": "code",
   "execution_count": null,
   "metadata": {},
   "outputs": [],
   "source": [
    "def squared(x): \n",
    "    return x**2"
   ]
  },
  {
   "cell_type": "code",
   "execution_count": null,
   "metadata": {},
   "outputs": [],
   "source": [
    "squared(3) # 3 ^ 2 = 9"
   ]
  },
  {
   "cell_type": "markdown",
   "metadata": {},
   "source": [
    "A function can have multiple parameters, like this example function: \n",
    "``` python\n",
    "def multiply(x, y): \n",
    "    return x * y\n",
    "```\n",
    "You can also return multiple values in a **tuple**, which is a collection of variables that cannot be changed. An example of a tuple is \n",
    "``` python\n",
    "a = (1, 2.0, 'three')\n",
    "```\n",
    "You can access values in the tuple using square brackets. In python, we have zero based indexing, so the first element will be at index zero. \n",
    "``` python\n",
    "a[0] # 1\n",
    "a[1] # 2.0\n",
    "a[2] # 'three'\n",
    "```\n",
    "When you return multiple values, they automatically return as a tuple, as such: \n",
    "``` python\n",
    "def return_max_min(a, b, c):\n",
    "    max_value = max(a,b,c)\n",
    "    min_value = min(a,b,c)\n",
    "    return max_value, min_value\n",
    "```\n",
    "The max and min are also function!\n"
   ]
  },
  {
   "cell_type": "markdown",
   "metadata": {},
   "source": [
    "For the first activity, create a function that calculates the area of a circle. Leave the name of the function as \"calculate_area\". Use 3.14 for pi. \n",
    "\n",
    "$\\mathbf{Area} = \\pi r^2$"
   ]
  },
  {
   "cell_type": "code",
   "execution_count": 3,
   "metadata": {},
   "outputs": [
    {
     "name": "stdout",
     "output_type": "stream",
     "text": [
      "All Good!\n"
     ]
    }
   ],
   "source": [
    "%%ITS 2a\n",
    "def calculate_area(r): \n",
    "    return 3.14 * r**2"
   ]
  },
  {
   "attachments": {},
   "cell_type": "markdown",
   "metadata": {},
   "source": [
    "Lets make another function, which will help our physicist friends. This function will take in a variable for the mass of two objects, and the distance between them. The function will return the gravitational force between the two objects.\n",
    "The equation for gravitational force is: $F = \\frac{Gm_1m_2}{r^2}$"
   ]
  },
  {
   "cell_type": "code",
   "execution_count": 3,
   "metadata": {},
   "outputs": [
    {
     "name": "stdout",
     "output_type": "stream",
     "text": [
      "None\n"
     ]
    }
   ],
   "source": [
    "%%ITS 2b\n",
    "def calculate_force(m1, m2, r): \n",
    "    G = 6.67e-11\n",
    "    return G * (m1 * m2) / r**2"
   ]
  },
  {
   "attachments": {},
   "cell_type": "markdown",
   "metadata": {},
   "source": [
    "Finally, lets go back to middle school, and makes a function that take x, m, and b, and returns the value of y. The equation is $y = mx + b$"
   ]
  },
  {
   "cell_type": "code",
   "execution_count": 3,
   "metadata": {},
   "outputs": [
    {
     "name": "stdout",
     "output_type": "stream",
     "text": [
      "All Good!\n"
     ]
    }
   ],
   "source": [
    "%%ITS 2c\n",
    "def calculate_y(m, x, b): \n",
    "    return m * x + b"
   ]
  }
 ],
 "metadata": {
  "kernelspec": {
   "display_name": "Python 3.10.7 ('cs699_venv': venv)",
   "language": "python",
   "name": "python3"
  },
  "language_info": {
   "codemirror_mode": {
    "name": "ipython",
    "version": 3
   },
   "file_extension": ".py",
   "mimetype": "text/x-python",
   "name": "python",
   "nbconvert_exporter": "python",
   "pygments_lexer": "ipython3",
   "version": "3.10.7"
  },
  "orig_nbformat": 4,
  "vscode": {
   "interpreter": {
    "hash": "add60f513203f9fde0929bd5779f0c3ff60be28244bf068604f76f92e9dd0df4"
   }
  }
 },
 "nbformat": 4,
 "nbformat_minor": 2
}
