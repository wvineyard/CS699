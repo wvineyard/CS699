{
 "cells": [
  {
   "attachments": {},
   "cell_type": "markdown",
   "metadata": {},
   "source": [
    "# Operators and Variables\n",
    "\n",
    "If the feedback is not working, or you get an error, run the cell below to reload the extension. If that still doesn't work, restart the kernel and run the cell again. If you still get an error, please contact Bill Vineyard at wvineyard@wisc.edu"
   ]
  },
  {
   "cell_type": "code",
   "execution_count": 2,
   "metadata": {},
   "outputs": [],
   "source": [
    "%reload_ext its_magic"
   ]
  },
  {
   "attachments": {},
   "cell_type": "markdown",
   "metadata": {},
   "source": [
    "_edit the code below with your name and email within the quotes_"
   ]
  },
  {
   "cell_type": "code",
   "execution_count": 3,
   "metadata": {},
   "outputs": [],
   "source": [
    "name = \"\"\n",
    "email = \"\""
   ]
  },
  {
   "attachments": {},
   "cell_type": "markdown",
   "metadata": {},
   "source": [
    "---\n",
    "Welcome to Python! In this short introduction, there will be a couple of exercises introducing you to the basics of Python, such as variables and arithmetic. In other notebooks, further exercises will be introduced, and you will be able to practice your skills "
   ]
  },
  {
   "attachments": {},
   "cell_type": "markdown",
   "metadata": {},
   "source": [
    "---\n",
    "For this first problem, make three variables, and give them the type of Int, Float, and String. There should only be one type of each! Edit the code below to make the edits. "
   ]
  },
  {
   "cell_type": "code",
   "execution_count": 4,
   "metadata": {},
   "outputs": [
    {
     "name": "stdout",
     "output_type": "stream",
     "text": [
      "All Good!\n"
     ]
    }
   ],
   "source": [
    "%%ITS 1a\n",
    "a = 1\n",
    "b = 2.0\n",
    "c = \"three\""
   ]
  },
  {
   "cell_type": "markdown",
   "metadata": {},
   "source": [
    "We can always check the type of a variable using the method 'type()' like this: \n",
    "``` python\n",
    "type(a)\n",
    "```"
   ]
  },
  {
   "cell_type": "code",
   "execution_count": 5,
   "metadata": {},
   "outputs": [
    {
     "data": {
      "text/plain": [
       "int"
      ]
     },
     "execution_count": 5,
     "metadata": {},
     "output_type": "execute_result"
    }
   ],
   "source": [
    "type(a)"
   ]
  },
  {
   "cell_type": "markdown",
   "metadata": {},
   "source": [
    "You can also use common mathematical operations in python to create a new variable. \n",
    "You can use addition (+), subtraction (-), multiplication (*), division (/), exponent (**), integer division (//) or the modulus (%). \n",
    "Integer division is drops what is after the decimal. \n",
    "The modulus is the reminder given a division problem. For example: \n",
    "\n",
    "$ 5 \\% 2 = 1 $\n",
    "\n"
   ]
  },
  {
   "cell_type": "code",
   "execution_count": null,
   "metadata": {},
   "outputs": [],
   "source": [
    "x = 2\n",
    "y = 3\n",
    "print(\"addition: \", x + y)\n",
    "print(\"subtraction: \", x - y)\n",
    "print(\"multiplication: \", x * y)\n",
    "print(\"division: \", x / y)\n",
    "print(\"exponentiation: \", x ** y)\n",
    "print(\"integer division: \", x // y)\n",
    "print(\"modulus: \", x % y)"
   ]
  },
  {
   "cell_type": "markdown",
   "metadata": {},
   "source": [
    "For the next activity, fill out the following block of code according to the comments"
   ]
  },
  {
   "cell_type": "code",
   "execution_count": 4,
   "metadata": {},
   "outputs": [
    {
     "name": "stdout",
     "output_type": "stream",
     "text": [
      "Did you make sure to assign the value of a3 correctly?\n",
      "\n"
     ]
    }
   ],
   "source": [
    "%%ITS 1b\n",
    "x, y, z = 4, 5, 6\n",
    "# Assign the sum of x, y, and z to a1\n",
    "a1 = x + y + z\n",
    "# Assign the product of x and y to a2\n",
    "a2 = x * y\n",
    "# Assign the difference between y and z to a3\n",
    "a3 = y - x\n",
    "# Find the quotient of z and x, and assign the result to y, then print y\n",
    "y = z / x"
   ]
  },
  {
   "cell_type": "markdown",
   "metadata": {},
   "source": [
    "## Booleans\n",
    "Booleans (or bools) are special variables that represent 'truth' values. They can either be true (1), or false (0). Booleans are especially useful, as you can use if statements, while loops, and other conditional statements to control your code. A boolean is declared as such: \n",
    "``` Python\n",
    "a_bool = True\n",
    "a_bool_2 = False\n",
    "```\n",
    "Keep in mind the capital for True and False. "
   ]
  }
 ],
 "metadata": {
  "kernelspec": {
   "display_name": "Python 3.10.7 ('cs699_venv': venv)",
   "language": "python",
   "name": "python3"
  },
  "language_info": {
   "codemirror_mode": {
    "name": "ipython",
    "version": 3
   },
   "file_extension": ".py",
   "mimetype": "text/x-python",
   "name": "python",
   "nbconvert_exporter": "python",
   "pygments_lexer": "ipython3",
   "version": "3.10.7 (tags/v3.10.7:6cc6b13, Sep  5 2022, 14:08:36) [MSC v.1933 64 bit (AMD64)]"
  },
  "orig_nbformat": 4,
  "vscode": {
   "interpreter": {
    "hash": "add60f513203f9fde0929bd5779f0c3ff60be28244bf068604f76f92e9dd0df4"
   }
  }
 },
 "nbformat": 4,
 "nbformat_minor": 2
}
