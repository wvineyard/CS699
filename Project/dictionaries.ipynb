{
 "cells": [
  {
   "attachments": {},
   "cell_type": "markdown",
   "metadata": {},
   "source": [
    "# Dictionaries\n",
    "\n",
    "If the feedback is not working, or you get an error, run the cell below to reload the extension. If that still doesn't work, restart the kernel and run the cell again. If you still get an error, please contact Bill Vineyard at wvineyard@wisc"
   ]
  },
  {
   "cell_type": "code",
   "execution_count": 1,
   "metadata": {},
   "outputs": [],
   "source": [
    "%reload_ext its_magic"
   ]
  },
  {
   "attachments": {},
   "cell_type": "markdown",
   "metadata": {},
   "source": [
    "_edit the code below with your name and email within the quotes_"
   ]
  },
  {
   "cell_type": "code",
   "execution_count": 2,
   "metadata": {},
   "outputs": [],
   "source": [
    "name = \"\"\n",
    "email = \"\""
   ]
  },
  {
   "attachments": {},
   "cell_type": "markdown",
   "metadata": {},
   "source": [
    "---\n",
    "Dictionaries are very similar to lists, except they use 'keys' instead of indexies. In a dictionary, there can only be one value for each key, and keys must be unique. Dictionaries are defined with curly brackets, and each key is followed by a colon and the value. Each key-value pair is separated by a comma.\n",
    "\n",
    "```python\n",
    "my_dict = {'key1':'value1', 'key2':'value2'}\n",
    "print(my_dict['key1'])\n",
    "```\n",
    "output: value1\n",
    "\n",
    "To add a new key-value pair to a dictionary, you can define it as such:\n",
    "```python\n",
    "my_dict['key3'] = 'value3'\n",
    "``` "
   ]
  },
  {
   "attachments": {},
   "cell_type": "markdown",
   "metadata": {},
   "source": [
    "For this problem, write a function that takes a list of names and numbers and returns a dictionary with the names as keys and the numbers as values. The function should take two lists as arguments, one of names and one of numbers. The function should return a dictionary with the names as keys and the numbers as values. You can assume both lists will have the same length. You can iterate through two lists at the same time using the zip() function. It is provided for you in the code below."
   ]
  },
  {
   "cell_type": "code",
   "execution_count": 6,
   "metadata": {},
   "outputs": [
    {
     "name": "stdout",
     "output_type": "stream",
     "text": [
      "All Good!\n"
     ]
    }
   ],
   "source": [
    "%%ITS 7a\n",
    "def name_age(names: list, ages: list) -> dict:\n",
    "    name_age_dict = {}\n",
    "    for name, age in zip(names, ages):\n",
    "        # your code here\n",
    "        name_age_dict[name] = age\n",
    "    \n",
    "    return name_age_dict"
   ]
  }
 ],
 "metadata": {
  "kernelspec": {
   "display_name": "cs699_venv",
   "language": "python",
   "name": "python3"
  },
  "language_info": {
   "codemirror_mode": {
    "name": "ipython",
    "version": 3
   },
   "file_extension": ".py",
   "mimetype": "text/x-python",
   "name": "python",
   "nbconvert_exporter": "python",
   "pygments_lexer": "ipython3",
   "version": "3.10.7"
  },
  "orig_nbformat": 4,
  "vscode": {
   "interpreter": {
    "hash": "add60f513203f9fde0929bd5779f0c3ff60be28244bf068604f76f92e9dd0df4"
   }
  }
 },
 "nbformat": 4,
 "nbformat_minor": 2
}
