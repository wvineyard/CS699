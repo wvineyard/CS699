{
 "cells": [
  {
   "cell_type": "code",
   "execution_count": null,
   "metadata": {},
   "outputs": [],
   "source": []
  },
  {
   "attachments": {},
   "cell_type": "markdown",
   "metadata": {},
   "source": [
    "### If/Elif/Else Statements\n",
    "An if statement is a conditional branching block of code. What that means is that it evaluates a condition, and given the result of the condition, it decides which part of the code to execute. Elif (else if) does the same, but is checked after the first if statement. Else runs if no other conditions above it is true. There are a couple of conditionals you can use: \n",
    " - == for equals\n",
    " - != for not equals\n",
    " - Any comparison operator (>, <)\n",
    "- \\>= For greater than or equal to\n",
    "- \\<= For less than or equal to\n",
    "Python also lets you use \"not\" or ! to get the opposite truth value. \n",
    "``` Python\n",
    "a = 1 \n",
    "b = 1\n",
    "if (a == b): \n",
    "    # This runs if a does equal b\n",
    "elif (a > b):\n",
    "    # This runs if a is greater than b\n",
    "else: \n",
    "    # This runs if neither of the above statements are true\n",
    "    "
   ]
  }
 ],
 "metadata": {
  "kernelspec": {
   "display_name": "cs699_venv",
   "language": "python",
   "name": "python3"
  },
  "language_info": {
   "name": "python",
   "version": "3.10.7 (tags/v3.10.7:6cc6b13, Sep  5 2022, 14:08:36) [MSC v.1933 64 bit (AMD64)]"
  },
  "orig_nbformat": 4,
  "vscode": {
   "interpreter": {
    "hash": "add60f513203f9fde0929bd5779f0c3ff60be28244bf068604f76f92e9dd0df4"
   }
  }
 },
 "nbformat": 4,
 "nbformat_minor": 2
}
