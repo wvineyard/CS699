{
 "cells": [
  {
   "attachments": {},
   "cell_type": "markdown",
   "metadata": {},
   "source": [
    "# Conditionals\n",
    "\n",
    "If the feedback is not working, or you get an error, run the cell below to reload the extension. If that still doesn't work, restart the kernel and run the cell again. If you still get an error, please contact Bill Vineyard at wvineyard@wisc.edu"
   ]
  },
  {
   "cell_type": "code",
   "execution_count": null,
   "metadata": {},
   "outputs": [],
   "source": [
    "%reload_ext its_magic"
   ]
  },
  {
   "cell_type": "code",
   "execution_count": null,
   "metadata": {},
   "outputs": [],
   "source": [
    "name = \"\"\n",
    "email = \"\""
   ]
  },
  {
   "attachments": {},
   "cell_type": "markdown",
   "metadata": {},
   "source": [
    "### If/Elif/Else Statements\n",
    "An if statement is a conditional branching block of code. What that means is that it evaluates a condition, and given the result of the condition, it decides which part of the code to execute. Elif (else if) does the same, but is checked after the first if statement. Else runs if no other conditions above it is true. There are a couple of conditionals you can use: \n",
    " - == for equals\n",
    " - != for not equals\n",
    " - Any comparison operator (>, <)\n",
    "- \\>= For greater than or equal to\n",
    "- \\<= For less than or equal to\n",
    "Python also lets you use \"not\" or ! to get the opposite truth value. \n",
    "``` Python\n",
    "a = 1 \n",
    "b = 1\n",
    "if (a == b): \n",
    "    # This runs if a does equal b\n",
    "elif (a > b):\n",
    "    # This runs if a is greater than b\n",
    "else: \n",
    "    # This runs if neither of the above statements are true\n",
    "    "
   ]
  },
  {
   "cell_type": "code",
   "execution_count": null,
   "metadata": {},
   "outputs": [],
   "source": [
    "%%ITS 3a\n",
    "a = None\n",
    "b = None\n",
    "if (a > b):\n",
    "    print(\"a is greater than b!\")"
   ]
  },
  {
   "attachments": {},
   "cell_type": "markdown",
   "metadata": {},
   "source": [
    "Lets a function that does a similar thing. We'll call this one maximum(). It will take a and b as parameters, and return the greatest value. Return a if a > b. Return b if b \\< a, and either a or b if they are equal. You will need to use an if statement in your function. "
   ]
  },
  {
   "cell_type": "code",
   "execution_count": null,
   "metadata": {},
   "outputs": [],
   "source": [
    "%%ITS 3b\n",
    "def maximum(a, b): \n",
    "    if a > b: \n",
    "        return a\n",
    "    else: \n",
    "        return b"
   ]
  },
  {
   "attachments": {},
   "cell_type": "markdown",
   "metadata": {},
   "source": [
    "For another function, we want to check to see if it is a capitol, lowercase, or not a number. We'll call this one check_letter(). It will take a letter as a parameter, and return \"upper\" if it is a capitol letter, \"lower\" if it is a lowercase letter, and \"Not a letter\" if it is not a letter. You will need to use an if and elif statement in your function.\n",
    "\n",
    "We will be using character codes. The character code for a is 97, and the character code for A is 65. The character code for z is 122, and the character code for Z is 90. You can use the ord() function to get the character code of a letter. "
   ]
  },
  {
   "cell_type": "code",
   "execution_count": 1,
   "metadata": {},
   "outputs": [
    {
     "name": "stderr",
     "output_type": "stream",
     "text": [
      "UsageError: Cell magic `%%ITS` not found.\n"
     ]
    }
   ],
   "source": [
    "%%ITS 3c\n",
    "def check_letter(letter: str):\n",
    "    value = ord(letter)\n",
    "    if (value > 64 and value < 91):\n",
    "        return \"upper\"\n",
    "    elif (value > 96 and value < 123):\n",
    "        return \"lower\"\n",
    "    else: \n",
    "        return \"other\""
   ]
  },
  {
   "cell_type": "code",
   "execution_count": null,
   "metadata": {},
   "outputs": [],
   "source": [
    "\" \""
   ]
  }
 ],
 "metadata": {
  "kernelspec": {
   "display_name": "cs699_venv",
   "language": "python",
   "name": "python3"
  },
  "language_info": {
   "codemirror_mode": {
    "name": "ipython",
    "version": 3
   },
   "file_extension": ".py",
   "mimetype": "text/x-python",
   "name": "python",
   "nbconvert_exporter": "python",
   "pygments_lexer": "ipython3",
   "version": "3.10.7"
  },
  "orig_nbformat": 4,
  "vscode": {
   "interpreter": {
    "hash": "add60f513203f9fde0929bd5779f0c3ff60be28244bf068604f76f92e9dd0df4"
   }
  }
 },
 "nbformat": 4,
 "nbformat_minor": 2
}
