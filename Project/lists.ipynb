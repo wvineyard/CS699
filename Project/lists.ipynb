{
 "cells": [
  {
   "attachments": {},
   "cell_type": "markdown",
   "metadata": {},
   "source": [
    "# Operators and Variables\n",
    "\n",
    "If the feedback is not working, or you get an error, run the cell below to reload the extension. If that still doesn't work, restart the kernel and run the cell again. If you still get an error, please contact Bill Vineyard at wvineyard@wisc.edu"
   ]
  },
  {
   "cell_type": "code",
   "execution_count": null,
   "metadata": {},
   "outputs": [],
   "source": [
    "%reload_ext its_magic"
   ]
  },
  {
   "attachments": {},
   "cell_type": "markdown",
   "metadata": {},
   "source": [
    "_edit the code below with your name and email within the quotes_"
   ]
  },
  {
   "cell_type": "code",
   "execution_count": null,
   "metadata": {},
   "outputs": [],
   "source": [
    "name = \"\"\n",
    "email = \"\""
   ]
  },
  {
   "attachments": {},
   "cell_type": "markdown",
   "metadata": {},
   "source": [
    "---\n",
    "Next, we got lists on the menu. Lists are the first \"data structure\" you will be working with. Lists are a collection of variables or 'items' that are stored in a particular order. Lists are created using square brackets, and the items are separated by commas. For example, the list below contains the numbers 1, 2, and 3.\n",
    "\n",
    "```python\n",
    "l = [1, 2, 3]\n",
    "```\n",
    "\n",
    "To access the varibles in a list, we will use the index of the variable. The index of a variable is the position of the variable in the list. The first variable in a list has an index of 0, the second variable has an index of 1, and so on. For example, the list below contains the numbers 1, 2, and 3. The first variable in the list has an index of 0, the second variable has an index of 1, and the third variable has an index of 2.\n",
    "\n",
    "```python\n",
    "l[0] # 1\n",
    "l[2] # 3\n",
    "```\n",
    "\n",
    "We can also iterate through a list to access each of its elements, just like strings in the previous section. \n",
    "\n",
    "```python \n",
    "for i in l:\n",
    "    print(i)\n",
    "```\n",
    "output: 1\n",
    "\n",
    "2\n",
    "\n",
    "3\n",
    "\n"
   ]
  },
  {
   "attachments": {},
   "cell_type": "markdown",
   "metadata": {},
   "source": [
    "---\n",
    "Now, let's try some exercises. For this first one, write a function that takes a list of integers, and adds them all together. For example, if the list is [1, 2, 3], the function should return 6. Remember to use the `for i in input:` syntax to iterate through the list.\n"
   ]
  },
  {
   "cell_type": "code",
   "execution_count": null,
   "metadata": {},
   "outputs": [],
   "source": [
    "%% ITS 6a\n",
    "def add_elements(input: list) -> int:\n",
    "    total = 0\n",
    "    for i in list: \n",
    "        total += i\n",
    "    return total"
   ]
  },
  {
   "attachments": {},
   "cell_type": "markdown",
   "metadata": {},
   "source": [
    "Next, write a function that takes a list of positive integers, and returns the largest integer in the list. For example, if the list is [1, 2, 3], the function should return 3."
   ]
  },
  {
   "cell_type": "code",
   "execution_count": null,
   "metadata": {},
   "outputs": [],
   "source": [
    "%% ITS 6b\n",
    "def max_in_list(input: list) -> int: \n",
    "    current_max = 0\n",
    "    for i in list: \n",
    "        if i > current_max:\n",
    "            current_max = i\n",
    "    return current_max"
   ]
  },
  {
   "attachments": {},
   "cell_type": "markdown",
   "metadata": {},
   "source": [
    "Next, we will work on building your own lists. You can add to a list by using the `append()` function. For example, if we have a list `l = [1, 2, 3]`, we can add the number 4 to the list by using the `append()` function.\n",
    "\n",
    "```python\n",
    "l = [1, 2, 3]\n",
    "l.append(4)\n",
    "print(l)\n",
    "```\n",
    "Output = [1, 2, 3, 4]"
   ]
  },
  {
   "attachments": {},
   "cell_type": "markdown",
   "metadata": {},
   "source": [
    "Write a function that takes 3 separate integers, and returns a list containing those integers, and the sum of those integers. For example, if the input is 1, 2, and 3, the function should return [1, 2, 3, 6]."
   ]
  },
  {
   "cell_type": "code",
   "execution_count": null,
   "metadata": {},
   "outputs": [],
   "source": [
    "%% ITS 6c\n",
    "def make_list(a, b, c) -> list:\n",
    "    out = [a, b, c]\n",
    "    out.append(a + b + c)\n",
    "    return out"
   ]
  },
  {
   "attachments": {},
   "cell_type": "markdown",
   "metadata": {},
   "source": [
    "Next one is a little tricker. Write a function that takes a list of integers, and returns a list containing the sum of the integers in the list, and the average of the integers in the list. For example, if the input is [1, 2, 3], the function should return [6, 2].\n",
    "\n",
    "You can use `len()` to get the length of a list (the number of elements is the length). For example, if we have a list `l = [1, 2, 3]`, we can get the length of the list by using the `len()` function.\n",
    "\n",
    "Remember, the average is the sum of all the elements divided by the number of elements.\n",
    "\n",
    "For example: \n",
    "```python\n",
    "input = [1, 2, 3]\n",
    "print(sum_and_average([1, 2, 3]))\n",
    "# Total = 1 + 2 + 3 = 6\n",
    "# Average = 6 / 3 = 2\n",
    "```\n",
    "Output = [6, 2]"
   ]
  },
  {
   "cell_type": "code",
   "execution_count": null,
   "metadata": {},
   "outputs": [],
   "source": [
    "%% ITS 6d\n",
    "def sum_and_average(input: list) -> list:\n",
    "    total = 0\n",
    "    for i in list: \n",
    "        total += i\n",
    "    average = total / len(list)\n",
    "    return [total, average]"
   ]
  }
 ],
 "metadata": {
  "kernelspec": {
   "display_name": "cs699_venv",
   "language": "python",
   "name": "python3"
  },
  "language_info": {
   "name": "python",
   "version": "3.10.7 (tags/v3.10.7:6cc6b13, Sep  5 2022, 14:08:36) [MSC v.1933 64 bit (AMD64)]"
  },
  "orig_nbformat": 4,
  "vscode": {
   "interpreter": {
    "hash": "add60f513203f9fde0929bd5779f0c3ff60be28244bf068604f76f92e9dd0df4"
   }
  }
 },
 "nbformat": 4,
 "nbformat_minor": 2
}
