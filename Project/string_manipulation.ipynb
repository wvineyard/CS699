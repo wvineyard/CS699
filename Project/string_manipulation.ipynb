{
 "cells": [
  {
   "attachments": {},
   "cell_type": "markdown",
   "metadata": {},
   "source": [
    "# String Manipulation\n",
    "\n",
    "If the feedback is not working, or you get an error, run the cell below to reload the extension. If that still doesn't work, restart the kernel and run the cell again. If you still get an error, please contact Bill Vineyard at wvineyard@wisc.edu"
   ]
  },
  {
   "cell_type": "code",
   "execution_count": 1,
   "metadata": {},
   "outputs": [],
   "source": [
    "%reload_ext its_magic"
   ]
  },
  {
   "attachments": {},
   "cell_type": "markdown",
   "metadata": {},
   "source": [
    "_edit the code below with your name and email within the quotes_"
   ]
  },
  {
   "cell_type": "code",
   "execution_count": 2,
   "metadata": {},
   "outputs": [],
   "source": [
    "name = \"\"\n",
    "email = \"\""
   ]
  },
  {
   "attachments": {},
   "cell_type": "markdown",
   "metadata": {},
   "source": [
    "---\n",
    "In this next notebook, we will be going over string manipulation! String manipulation is a very important skill to have in Python, as it is used in many different applications. You can use iteration to solve many string manipulation problems, but there are also many built-in functions that can help you out. In the exercises, you will be using iteration. \n",
    "\n",
    "The most helpful function that will be allowed here is the `split()` function. This function will split a string into a list of words. For example, if we have the string \"hello world\", we can use the `split()` function to split the string into a list of words, which would be `[\"hello\", \"world\"]`.\n",
    "\n",
    "``` python\n",
    "# Example\n",
    "string = \"hello world\"\n",
    "string.split()\n",
    "print(string)\n",
    "```\n",
    "Output: ['hello', 'world']\n"
   ]
  },
  {
   "attachments": {},
   "cell_type": "markdown",
   "metadata": {},
   "source": [
    "Write a function that capitalizes the first letter of each word in a string. The function should take in a string and return a string. You can assume that the string will only contain letters and spaces. You can also assume that there will be only one space between each word.\n",
    "\n",
    "You may use the replace and capitalize functions.\n",
    "\n",
    "``` python\n",
    "c = \"h\"\n",
    "string.replace(c, c.upper())\n",
    "```\n",
    "\n",
    "``` python"
   ]
  },
  {
   "cell_type": "code",
   "execution_count": 3,
   "metadata": {},
   "outputs": [
    {
     "ename": "UnboundLocalError",
     "evalue": "local variable 'bufferID' referenced before assignment",
     "output_type": "error",
     "traceback": [
      "\u001b[1;31m---------------------------------------------------------------------------\u001b[0m",
      "\u001b[1;31mUnboundLocalError\u001b[0m                         Traceback (most recent call last)",
      "Cell \u001b[1;32mIn [3], line 1\u001b[0m\n\u001b[1;32m----> 1\u001b[0m get_ipython()\u001b[39m.\u001b[39mrun_cell_magic(\u001b[39m'\u001b[39m\u001b[39mITS\u001b[39m\u001b[39m'\u001b[39m, \u001b[39m'\u001b[39m\u001b[39m5a\u001b[39m\u001b[39m'\u001b[39m, \u001b[39m'\u001b[39m\u001b[39mdef capitalize_first(string): \u001b[39m\u001b[39m\\n\u001b[39;00m\u001b[39m    # Capitalize the first letter of every word in a string\u001b[39m\u001b[39m\\n\u001b[39;00m\u001b[39m    for i in string.split():\u001b[39m\u001b[39m\\n\u001b[39;00m\u001b[39m        string = string.replace(i, i.capitalize())\u001b[39m\u001b[39m\\n\u001b[39;00m\u001b[39m    return string\u001b[39m\u001b[39m\\n\u001b[39;00m\u001b[39m'\u001b[39m)\n",
      "File \u001b[1;32mc:\\Users\\bluev\\Desktop\\CS699\\cs699_venv\\lib\\site-packages\\IPython\\core\\interactiveshell.py:2362\u001b[0m, in \u001b[0;36mInteractiveShell.run_cell_magic\u001b[1;34m(self, magic_name, line, cell)\u001b[0m\n\u001b[0;32m   2360\u001b[0m \u001b[39mwith\u001b[39;00m \u001b[39mself\u001b[39m\u001b[39m.\u001b[39mbuiltin_trap:\n\u001b[0;32m   2361\u001b[0m     args \u001b[39m=\u001b[39m (magic_arg_s, cell)\n\u001b[1;32m-> 2362\u001b[0m     result \u001b[39m=\u001b[39m fn(\u001b[39m*\u001b[39margs, \u001b[39m*\u001b[39m\u001b[39m*\u001b[39mkwargs)\n\u001b[0;32m   2363\u001b[0m \u001b[39mreturn\u001b[39;00m result\n",
      "File \u001b[1;32mc:\\Users\\bluev\\Desktop\\CS699\\Project\\its_magic.py:19\u001b[0m, in \u001b[0;36mCSPMagic.ITS\u001b[1;34m(self, line, cell, local_ns)\u001b[0m\n\u001b[0;32m     17\u001b[0m     \u001b[39mreturn\u001b[39;00m \u001b[39m\"\u001b[39m\u001b[39mPlease define name and email variables at the top of your notebook, or rerun the cell with the name and email\u001b[39m\u001b[39m\"\u001b[39m\n\u001b[0;32m     18\u001b[0m \u001b[39mid\u001b[39m \u001b[39m=\u001b[39m line\n\u001b[1;32m---> 19\u001b[0m add_to_json(\u001b[39mid\u001b[39;49m, cell, name, email)\n\u001b[0;32m     20\u001b[0m o \u001b[39m=\u001b[39m parse(\u001b[39mid\u001b[39m, cell, debug\u001b[39m=\u001b[39m\u001b[39mTrue\u001b[39;00m)\n\u001b[0;32m     21\u001b[0m \u001b[39mprint\u001b[39m(o)\n",
      "File \u001b[1;32mc:\\Users\\bluev\\Desktop\\CS699\\Project\\its_manager.py:54\u001b[0m, in \u001b[0;36madd_to_json\u001b[1;34m(id, input, name, email)\u001b[0m\n\u001b[0;32m     51\u001b[0m feedback \u001b[39m=\u001b[39m parse(\u001b[39mid\u001b[39m, \u001b[39minput\u001b[39m)\n\u001b[0;32m     52\u001b[0m correct \u001b[39m=\u001b[39m feedback \u001b[39m==\u001b[39m \u001b[39m\"\u001b[39m\u001b[39mAll Good!\u001b[39m\u001b[39m\"\u001b[39m\n\u001b[1;32m---> 54\u001b[0m key \u001b[39m=\u001b[39m name\u001b[39m.\u001b[39mreplace(\u001b[39m\"\u001b[39m\u001b[39m \u001b[39m\u001b[39m\"\u001b[39m, \u001b[39m\"\u001b[39m\u001b[39m\"\u001b[39m) \u001b[39m+\u001b[39m \u001b[39m\"\u001b[39m\u001b[39m+\u001b[39m\u001b[39m\"\u001b[39m \u001b[39m+\u001b[39m current_time \u001b[39m+\u001b[39m bufferID\n\u001b[0;32m     55\u001b[0m \u001b[39mif\u001b[39;00m bufferID \u001b[39m==\u001b[39m \u001b[39m'\u001b[39m\u001b[39mz\u001b[39m\u001b[39m'\u001b[39m:\n\u001b[0;32m     56\u001b[0m     bufferID \u001b[39m=\u001b[39m \u001b[39m'\u001b[39m\u001b[39ma\u001b[39m\u001b[39m'\u001b[39m\n",
      "\u001b[1;31mUnboundLocalError\u001b[0m: local variable 'bufferID' referenced before assignment"
     ]
    }
   ],
   "source": [
    "%%ITS 5a\n",
    "def capitalize_first(string): \n",
    "    # Capitalize the first letter of every word in a string\n",
    "    for i in string.split():\n",
    "        string = string.replace(i, i.capitalize())\n",
    "    return string"
   ]
  },
  {
   "attachments": {},
   "cell_type": "markdown",
   "metadata": {},
   "source": [
    "Next, lets write another function that takes a string as an input, and removes all vowels and returns the string without vowels. You can assume that the string will only contain letters and spaces, and that the string will be entirely lowercase. You can also assume that there will be only one space between each word. You may use the `remove()` function to remove a character from a string.\n",
    "\n",
    "Hint: For this, we want to iterate through the string directly. Lets say we want to remove all 'l's, 'o's, and 'e's from the string \"hello world\". We can do this by iterating through the string, and checking if the character is a 'l', 'o', or 'e'. If it is, we can remove it from the string. If it is not, we can just continue iterating through the string.\n",
    "``` python\n",
    "string = \"hello world\"\n",
    "for c in string: \n",
    "    if c == 'l' or c == 'o' or c == 'e':\n",
    "        string.replace(c, \"\")\n",
    "```\n",
    "Output = \"h wrd\""
   ]
  },
  {
   "cell_type": "code",
   "execution_count": null,
   "metadata": {},
   "outputs": [
    {
     "name": "stdout",
     "output_type": "stream",
     "text": [
      "All Good!\n"
     ]
    }
   ],
   "source": [
    "%%ITS 5b\n",
    "def remove_vowels(string):\n",
    "    vowels = \"aeiou\"\n",
    "    for s in string:\n",
    "        if s in vowels:\n",
    "            string = string.replace(s, \"\")\n",
    "    return string\n"
   ]
  },
  {
   "attachments": {},
   "cell_type": "markdown",
   "metadata": {},
   "source": [
    "Next, we will write a similar function that simply removes all spaces in the string. "
   ]
  },
  {
   "cell_type": "code",
   "execution_count": null,
   "metadata": {},
   "outputs": [
    {
     "name": "stdout",
     "output_type": "stream",
     "text": [
      "All Good!\n"
     ]
    }
   ],
   "source": [
    "%%ITS 5c\n",
    "def remove_spaces(string):\n",
    "    for s in string:\n",
    "        if s == \" \":\n",
    "            string = string.replace(s, \"\")\n",
    "    return string"
   ]
  }
 ],
 "metadata": {
  "kernelspec": {
   "display_name": "cs699_venv",
   "language": "python",
   "name": "python3"
  },
  "language_info": {
   "codemirror_mode": {
    "name": "ipython",
    "version": 3
   },
   "file_extension": ".py",
   "mimetype": "text/x-python",
   "name": "python",
   "nbconvert_exporter": "python",
   "pygments_lexer": "ipython3",
   "version": "3.10.7"
  },
  "orig_nbformat": 4,
  "vscode": {
   "interpreter": {
    "hash": "add60f513203f9fde0929bd5779f0c3ff60be28244bf068604f76f92e9dd0df4"
   }
  }
 },
 "nbformat": 4,
 "nbformat_minor": 2
}
