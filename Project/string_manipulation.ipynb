{
 "cells": [
  {
   "attachments": {},
   "cell_type": "markdown",
   "metadata": {},
   "source": [
    "# String Manipulation\n",
    "\n",
    "If the feedback is not working, or you get an error, run the cell below to reload the extension. If that still doesn't work, restart the kernel and run the cell again. If you still get an error, please contact Bill Vineyard at wvineyard@wisc.edu"
   ]
  },
  {
   "cell_type": "code",
   "execution_count": 1,
   "metadata": {},
   "outputs": [],
   "source": [
    "%reload_ext its_magic"
   ]
  },
  {
   "attachments": {},
   "cell_type": "markdown",
   "metadata": {},
   "source": [
    "_edit the code below with your name and email within the quotes_"
   ]
  },
  {
   "cell_type": "code",
   "execution_count": 2,
   "metadata": {},
   "outputs": [],
   "source": [
    "name = \"\"\n",
    "email = \"\""
   ]
  },
  {
   "attachments": {},
   "cell_type": "markdown",
   "metadata": {},
   "source": [
    "---\n",
    "In this next notebook, we will be going over string manipulation! String manipulation is a very important skill to have in Python, as it is used in many different applications. You can use iteration to solve many string manipulation problems, but there are also many built-in functions that can help you out. In the exercises, you will be using iteration. \n",
    "\n",
    "The most helpful function that will be allowed here is the `split()` function. This function will split a string into a list of words. For example, if we have the string \"hello world\", we can use the `split()` function to split the string into a list of words, which would be `[\"hello\", \"world\"]`.\n",
    "\n",
    "``` python\n",
    "# Example\n",
    "string = \"hello world\"\n",
    "string.split()\n",
    "print(string)\n",
    "```\n",
    "Output: ['hello', 'world']\n"
   ]
  },
  {
   "attachments": {},
   "cell_type": "markdown",
   "metadata": {},
   "source": [
    "Write a function that capitalizes the first letter of each word in a string. The function should take in a string and return a string. You can assume that the string will only contain letters and spaces. You can also assume that there will be only one space between each word.\n",
    "\n",
    "You may use the replace and capitalize functions.\n",
    "\n",
    "``` python\n",
    "c = \"h\"\n",
    "string.replace(c, c.upper())\n",
    "```\n",
    "\n",
    "``` python"
   ]
  },
  {
   "cell_type": "code",
   "execution_count": 3,
   "metadata": {},
   "outputs": [
    {
     "name": "stdout",
     "output_type": "stream",
     "text": [
      "All Good!\n"
     ]
    }
   ],
   "source": [
    "%%ITS 5a\n",
    "def capitalize_first(string): \n",
    "    # Capitalize the first letter of every word in a string\n",
    "    for i in string.split():\n",
    "        string = string.replace(i, i.capitalize())\n",
    "    return string"
   ]
  },
  {
   "attachments": {},
   "cell_type": "markdown",
   "metadata": {},
   "source": [
    "Next, lets write another function that takes a string as an input, and removes all vowels and returns the string without vowels. You can assume that the string will only contain letters and spaces, and that the string will be entirely lowercase. You can also assume that there will be only one space between each word. You may use the `remove()` function to remove a character from a string.\n",
    "\n",
    "Hint: For this, we want to iterate through the string directly. Lets say we want to remove all 'l's, 'o's, and 'e's from the string \"hello world\". We can do this by iterating through the string, and checking if the character is a 'l', 'o', or 'e'. If it is, we can remove it from the string. If it is not, we can just continue iterating through the string.\n",
    "``` python\n",
    "string = \"hello world\"\n",
    "for c in string: \n",
    "    if c == 'l' or c == 'o' or c == 'e':\n",
    "        string.replace(c, \"\")\n",
    "```\n",
    "Output = \"h wrd\""
   ]
  },
  {
   "cell_type": "code",
   "execution_count": 4,
   "metadata": {},
   "outputs": [
    {
     "name": "stdout",
     "output_type": "stream",
     "text": [
      "All Good!\n"
     ]
    }
   ],
   "source": [
    "%%ITS 5b\n",
    "def remove_vowels(string):\n",
    "    vowels = \"aeiou\"\n",
    "    for s in string:\n",
    "        if s in vowels:\n",
    "            string = string.replace(s, \"\")\n",
    "    return string\n"
   ]
  },
  {
   "attachments": {},
   "cell_type": "markdown",
   "metadata": {},
   "source": [
    "Next, we will write a similar function that simply removes all spaces in the string. "
   ]
  },
  {
   "cell_type": "code",
   "execution_count": 5,
   "metadata": {},
   "outputs": [
    {
     "name": "stdout",
     "output_type": "stream",
     "text": [
      "Your function returned None, did you forget to return something?\n"
     ]
    }
   ],
   "source": [
    "%%ITS 5c\n",
    "def remove_spaces(string):\n",
    "    for s in string:\n",
    "        if s == \" \":\n",
    "            string = string.replace(s, \"\")\n",
    "    return string"
   ]
  }
 ],
 "metadata": {
  "kernelspec": {
   "display_name": "cs699_venv",
   "language": "python",
   "name": "python3"
  },
  "language_info": {
   "codemirror_mode": {
    "name": "ipython",
    "version": 3
   },
   "file_extension": ".py",
   "mimetype": "text/x-python",
   "name": "python",
   "nbconvert_exporter": "python",
   "pygments_lexer": "ipython3",
   "version": "3.10.7"
  },
  "orig_nbformat": 4,
  "vscode": {
   "interpreter": {
    "hash": "add60f513203f9fde0929bd5779f0c3ff60be28244bf068604f76f92e9dd0df4"
   }
  }
 },
 "nbformat": 4,
 "nbformat_minor": 2
}
