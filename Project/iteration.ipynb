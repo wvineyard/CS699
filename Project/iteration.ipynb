{
 "cells": [
  {
   "attachments": {},
   "cell_type": "markdown",
   "metadata": {},
   "source": [
    "# Iteration\n",
    "\n",
    "If the feedback is not working, or you get an error, run the cell below to reload the extension. If that still doesn't work, restart the kernel and run the cell again. If you still get an error, please contact Bill Vineyard at wvineyard@wisc.edu"
   ]
  },
  {
   "cell_type": "code",
   "execution_count": 1,
   "metadata": {},
   "outputs": [],
   "source": [
    "%reload_ext its_magic"
   ]
  },
  {
   "cell_type": "code",
   "execution_count": 2,
   "metadata": {},
   "outputs": [],
   "source": [
    "name = \"\"\n",
    "email = \"\""
   ]
  },
  {
   "attachments": {},
   "cell_type": "markdown",
   "metadata": {},
   "source": [
    "## Why Iteration?\n",
    "Iteration in Python is one of the most powerful tools in the language. It allows you to repeat a block of code a certain number of times, or until a certain condition is met. There are two types of iteration in Python: for loops and while loops. For loops are generally used when you know how many times you want to repeat a block of code. While loops are generally used when you don't know how many times you want to repeat a block of code.\n",
    "\n",
    "## For Loops \n",
    "To get started, lets focus on for loops. For loops are used when you have a definite number of times you want to repeat a block of code. For example, if you wanted to print the numbers 1 through 10, you could do the following:\n"
   ]
  },
  {
   "cell_type": "code",
   "execution_count": null,
   "metadata": {},
   "outputs": [],
   "source": [
    "for i in range(1, 11): \n",
    "    print(i)"
   ]
  },
  {
   "attachments": {},
   "cell_type": "markdown",
   "metadata": {},
   "source": [
    "Note that the range function is used to iterate through numbers. The range function takes up to 3 parameters: start, end, and step. \n",
    "```python\n",
    "for i in range(10):\n",
    "    print(i)\n",
    "```\n",
    "will print the numbers 0 through 9. \n",
    "```python\n",
    "for i in range(1, 11):\n",
    "    print(i)\n",
    "```\n",
    "will print the numbers 1 through 10. \n",
    "```python\n",
    "for i in range(1, 11, 2):\n",
    "    print(i)\n",
    "```\n",
    "will print the numbers 1, 3, 5, 7, and 9 (step 2 makes it print every other number)\n",
    "---\n",
    "For this first exercise, use a for loop to print every 5 numbers 0 through 100, including 100. "
   ]
  },
  {
   "cell_type": "code",
   "execution_count": 3,
   "metadata": {},
   "outputs": [
    {
     "name": "stdout",
     "output_type": "stream",
     "text": [
      "All Good!\n",
      "0\n",
      "5\n",
      "10\n",
      "15\n",
      "20\n",
      "25\n",
      "30\n",
      "35\n",
      "40\n",
      "45\n",
      "50\n",
      "55\n",
      "60\n",
      "65\n",
      "70\n",
      "75\n",
      "80\n",
      "85\n",
      "90\n",
      "95\n",
      "100\n"
     ]
    }
   ],
   "source": [
    "%%ITS 4a\n",
    "for i in range(0, 101, 5):\n",
    "    print(i)"
   ]
  },
  {
   "attachments": {},
   "cell_type": "markdown",
   "metadata": {},
   "source": [
    "Next, lets make a function that calculates the factorial of a number given in a function. For a refresher, a factorial is the product of all positive integers less than or equal to a given number. For example, $5! = 5 * 4 * 3 * 2 * 1 = 120$.\n",
    "\n",
    "Hint: You will have to use the input inside the range() function. "
   ]
  },
  {
   "cell_type": "code",
   "execution_count": null,
   "metadata": {},
   "outputs": [],
   "source": [
    "%%ITS 4b\n",
    "def factorial(n):\n",
    "    for i in range(1, n):\n",
    "        n *= i\n",
    "    return n"
   ]
  },
  {
   "attachments": {},
   "cell_type": "markdown",
   "metadata": {},
   "source": [
    "## While Loops\n",
    "While loops are slightly different than for loops. It continues to repeat a block of code until a certain condition is met. For example, if you wanted to print the numbers 1 through 10, you could do the following:\n",
    "``` python\n",
    "i = 1\n",
    "while i <= 10:\n",
    "    print(i)\n",
    "    i += 1\n",
    "```\n",
    "\n",
    "For the first exercise, use a while loop to add every number until the sum is greater than 1000, and print the sum every iteration. \n",
    "\n",
    "Hint: You will need two varibles, one to keep track of the sum, and another to keep track of the current number being added!"
   ]
  },
  {
   "cell_type": "code",
   "execution_count": null,
   "metadata": {},
   "outputs": [],
   "source": [
    "%%ITS 4c\n",
    "#TODO: Maybe rephrase this question to be more clear? \n",
    "total = 0\n",
    "num = 1\n",
    "while total < 1000: \n",
    "    total += num\n",
    "    num += 1"
   ]
  }
 ],
 "metadata": {
  "kernelspec": {
   "display_name": "cs699_venv",
   "language": "python",
   "name": "python3"
  },
  "language_info": {
   "codemirror_mode": {
    "name": "ipython",
    "version": 3
   },
   "file_extension": ".py",
   "mimetype": "text/x-python",
   "name": "python",
   "nbconvert_exporter": "python",
   "pygments_lexer": "ipython3",
   "version": "3.10.7"
  },
  "orig_nbformat": 4,
  "vscode": {
   "interpreter": {
    "hash": "add60f513203f9fde0929bd5779f0c3ff60be28244bf068604f76f92e9dd0df4"
   }
  }
 },
 "nbformat": 4,
 "nbformat_minor": 2
}
